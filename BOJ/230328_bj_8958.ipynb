{
 "cells": [
  {
   "attachments": {},
   "cell_type": "markdown",
   "metadata": {},
   "source": [
    "## OX퀴즈\n",
    "\n",
    "https://www.acmicpc.net/problem/8958"
   ]
  },
  {
   "attachments": {},
   "cell_type": "markdown",
   "metadata": {},
   "source": [
    "| 예제 입력 | 예제 출력 |\n",
    "|:---:|:---:|\n",
    "| 5<br>OOXXOXXOOO<br>OOXXOOXXOO<br>OXOXOXOXOXOXOX<br>OOOOOOOOOO<br>OOOOXOOOOXOOOOX | 10<br>9<br>7<br>55<br>30 |"
   ]
  },
  {
   "attachments": {},
   "cell_type": "markdown",
   "metadata": {},
   "source": [
    "### 풀이"
   ]
  },
  {
   "attachments": {},
   "cell_type": "markdown",
   "metadata": {},
   "source": [
    "- cnt와 score의 분리, 따로 세기"
   ]
  },
  {
   "cell_type": "code",
   "execution_count": 1,
   "metadata": {},
   "outputs": [
    {
     "name": "stdout",
     "output_type": "stream",
     "text": [
      "10\n",
      "9\n",
      "7\n",
      "55\n",
      "30\n"
     ]
    }
   ],
   "source": [
    "n_test = int(input())\n",
    "\n",
    "answer = []\n",
    "for n in range(n_test):\n",
    "    test = input()\n",
    "\n",
    "    score = 0\n",
    "    cnt = 0\n",
    "\n",
    "    for i in test:\n",
    "        if i == 'O':\n",
    "            score += 1\n",
    "            score += cnt\n",
    "            cnt += 1\n",
    "        else:\n",
    "            cnt = 0\n",
    "\n",
    "    answer.append(score)\n",
    "\n",
    "for ans in answer:\n",
    "    print(ans)"
   ]
  }
 ],
 "metadata": {
  "kernelspec": {
   "display_name": "Python 3",
   "language": "python",
   "name": "python3"
  },
  "language_info": {
   "codemirror_mode": {
    "name": "ipython",
    "version": 3
   },
   "file_extension": ".py",
   "mimetype": "text/x-python",
   "name": "python",
   "nbconvert_exporter": "python",
   "pygments_lexer": "ipython3",
   "version": "3.10.1"
  },
  "orig_nbformat": 4
 },
 "nbformat": 4,
 "nbformat_minor": 2
}
